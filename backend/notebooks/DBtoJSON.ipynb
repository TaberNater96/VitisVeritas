{
 "cells": [
  {
   "cell_type": "markdown",
   "id": "b1b10e67",
   "metadata": {},
   "source": [
    "<h1 style=\"text-align: center\">Database to JSON Export Pipeline</h1>\n",
    "\n",
    "This notebook extracts data from the PostgreSQL database and converts it to JSON/GeoJSON files for the frontend application. The exported files are placed in `../frontend/public/data/` for static serving.\n",
    "\n",
    "To update json data files, simply re-run all of these cells and the json files will be overwritten with updated value from the PostgreSQL database. \n",
    "\n",
    "## AVAs"
   ]
  },
  {
   "cell_type": "code",
   "execution_count": 1,
   "id": "367d3f27",
   "metadata": {},
   "outputs": [
    {
     "name": "stdout",
     "output_type": "stream",
     "text": [
      "Database connection configured\n",
      "Output directory: /home/tabernater/projects/VitisVeritas/backend/notebooks/../../frontend/public/data\n",
      "Setup complete.\n"
     ]
    }
   ],
   "source": [
    "import os\n",
    "import json\n",
    "import geopandas as gpd\n",
    "import pandas as pd\n",
    "from sqlalchemy import create_engine, text\n",
    "from dotenv import load_dotenv\n",
    "from pathlib import Path\n",
    "\n",
    "# Load environment variables\n",
    "dotenv_path = '../.env'\n",
    "load_dotenv(dotenv_path=dotenv_path)\n",
    "\n",
    "DATABASE_URL = os.getenv('DATABASE_URL')\n",
    "if not DATABASE_URL:\n",
    "    raise ValueError(\"DATABASE_URL not found in .env file. Make sure .env file exists in the 'backend' directory.\")\n",
    "\n",
    "# Create database connection\n",
    "engine = create_engine(DATABASE_URL)\n",
    "\n",
    "# Define output directory\n",
    "output_dir = Path('../../frontend/public/data/')\n",
    "output_dir.mkdir(parents=True, exist_ok=True)\n",
    "\n",
    "print(f\"Database connection configured\")\n",
    "print(f\"Output directory: {output_dir.absolute()}\")\n",
    "print(f\"Setup complete.\")"
   ]
  },
  {
   "cell_type": "code",
   "execution_count": 3,
   "id": "4b657bab",
   "metadata": {},
   "outputs": [
    {
     "name": "stdout",
     "output_type": "stream",
     "text": [
      "📥 Fetching AVAs from database...\n",
      "✅ Retrieved 12 AVAs from database\n",
      "📊 AVAs data preview:\n",
      "   - Total AVAs: 12\n",
      "   - Columns: ['id', 'name', 'description', 'created_at', 'updated_at', 'geometry']\n",
      "   - CRS: EPSG:4326\n",
      "   - Geometry types: {'MultiPolygon': 12}\n",
      "\n",
      "📋 First 3 AVAs:\n",
      "   - Chehalem Mountains: 14 chars description\n",
      "   - Dundee Hills: 14 chars description\n",
      "   - Eola-Amity Hills: 14 chars description\n"
     ]
    }
   ],
   "source": [
    "# Query to fetch all AVAs with their geometry\n",
    "avas_query = \"\"\"\n",
    "SELECT \n",
    "    id,\n",
    "    name,\n",
    "    description,\n",
    "    ST_AsGeoJSON(geom) as geometry,\n",
    "    created_at,\n",
    "    updated_at\n",
    "FROM avas\n",
    "ORDER BY name;\n",
    "\"\"\"\n",
    "\n",
    "print(\"Fetching AVAs from database...\")\n",
    "\n",
    "# Execute query and create GeoDataFrame\n",
    "with engine.connect() as connection:\n",
    "    df_avas = pd.read_sql(avas_query, connection)\n",
    "\n",
    "print(f\"Retrieved {len(df_avas)} AVAs from database\")\n",
    "\n",
    "# Convert to GeoDataFrame\n",
    "from shapely.geometry import shape\n",
    "\n",
    "# Parse the geometry from GeoJSON strings using shapely\n",
    "geometries = df_avas['geometry'].apply(\n",
    "    lambda x: shape(json.loads(x)) if x else None\n",
    ")\n",
    "\n",
    "# Create GeoDataFrame\n",
    "gdf_avas = gpd.GeoDataFrame(\n",
    "    df_avas.drop('geometry', axis=1),\n",
    "    geometry=geometries,\n",
    "    crs='EPSG:4326'\n",
    ")\n",
    "\n",
    "# Display basic info\n",
    "print(f\"AVAs data preview:\")\n",
    "print(f\"   - Total AVAs: {len(gdf_avas)}\")\n",
    "print(f\"   - Columns: {list(gdf_avas.columns)}\")\n",
    "print(f\"   - CRS: {gdf_avas.crs}\")\n",
    "print(f\"   - Geometry types: {gdf_avas.geometry.geom_type.value_counts().to_dict()}\")\n",
    "\n",
    "# Display first few rows\n",
    "print(f\"\\nFirst 3 AVAs:\")\n",
    "for idx, row in gdf_avas.head(3).iterrows():\n",
    "    print(f\"   - {row['name']}: {len(row['description'] or 'No description')} chars description\")"
   ]
  },
  {
   "cell_type": "code",
   "execution_count": 4,
   "id": "12c5872d",
   "metadata": {},
   "outputs": [
    {
     "name": "stdout",
     "output_type": "stream",
     "text": [
      "💾 Exporting AVAs to: ../../frontend/public/data/avas.geojson\n",
      "✅ Successfully exported AVAs!\n",
      "   - File: ../../frontend/public/data/avas.geojson\n",
      "   - Size: 3.48 MB\n",
      "   - Features: 12\n",
      "   - Sample content: {\n",
      "\"type\": \"FeatureCollection\",\n",
      "\"name\": \"avas\",\n",
      "\"crs\": { \"type\": \"name\", \"properties\": { \"name\": \"urn:ogc:def:crs:OGC:1.3:CRS84\" } },\n",
      "\"features\": [\n",
      "{ \"type\": \"Feature\", \"properties\": { \"id\": 10, \"name\"...\n",
      "✅ Successfully exported AVAs!\n",
      "   - File: ../../frontend/public/data/avas.geojson\n",
      "   - Size: 3.48 MB\n",
      "   - Features: 12\n",
      "   - Sample content: {\n",
      "\"type\": \"FeatureCollection\",\n",
      "\"name\": \"avas\",\n",
      "\"crs\": { \"type\": \"name\", \"properties\": { \"name\": \"urn:ogc:def:crs:OGC:1.3:CRS84\" } },\n",
      "\"features\": [\n",
      "{ \"type\": \"Feature\", \"properties\": { \"id\": 10, \"name\"...\n"
     ]
    }
   ],
   "source": [
    "# Export to GeoJSON file\n",
    "avas_output_path = output_dir / 'avas.geojson'\n",
    "\n",
    "print(f\"Exporting AVAs to: {avas_output_path}\")\n",
    "\n",
    "# Export as GeoJSON\n",
    "gdf_avas.to_file(avas_output_path, driver='GeoJSON')\n",
    "\n",
    "# Verify the file was created and get file size\n",
    "if avas_output_path.exists():\n",
    "    file_size_mb = avas_output_path.stat().st_size / (1024 * 1024)\n",
    "    print(f\"Successfully exported AVAs!\")\n",
    "    print(f\"   - File: {avas_output_path}\")\n",
    "    print(f\"   - Size: {file_size_mb:.2f} MB\")\n",
    "    print(f\"   - Features: {len(gdf_avas)}\")\n",
    "    \n",
    "    # Read a snippet to verify structure\n",
    "    with open(avas_output_path, 'r') as f:\n",
    "        sample = f.read(200)\n",
    "        print(f\"   - Sample content: {sample}...\")\n",
    "else:\n",
    "    print(\"Failed to create AVAs GeoJSON file\")"
   ]
  },
  {
   "cell_type": "markdown",
   "id": "34b86bad",
   "metadata": {},
   "source": [
    "## Wineries"
   ]
  },
  {
   "cell_type": "code",
   "execution_count": 2,
   "id": "67a4d600",
   "metadata": {},
   "outputs": [
    {
     "name": "stdout",
     "output_type": "stream",
     "text": [
      "Fetching wineries from database...\n",
      "Retrieved 134 wineries from database\n",
      "Wineries data preview:\n",
      "   - Total wineries: 134\n",
      "   - Columns: ['id', 'name', 'address', 'website_url', 'description', 'phone', 'ava_id', 'ava_name', 'created_at', 'updated_at', 'geometry']\n",
      "   - CRS: EPSG:4326\n",
      "   - Geometry types: {'Point': 134}\n",
      "\n",
      "First 3 wineries:\n",
      "   - Aeolus Vineyards (Eola-Amity Hills): 385 chars description\n",
      "   - Airlie Winery (Willamette Valley): 363 chars description\n",
      "   - Alexeli Vineyard + Winery (Willamette Valley): 385 chars description\n"
     ]
    }
   ],
   "source": [
    "# Query to fetch all wineries with their geometry and related AVA information\n",
    "wineries_query = \"\"\"\n",
    "SELECT \n",
    "    w.id,\n",
    "    w.name,\n",
    "    w.address,\n",
    "    w.website_url,\n",
    "    w.description,\n",
    "    w.phone,\n",
    "    w.ava_id,\n",
    "    a.name as ava_name,\n",
    "    ST_AsGeoJSON(w.location) as geometry,\n",
    "    w.created_at,\n",
    "    w.updated_at\n",
    "FROM wineries w\n",
    "LEFT JOIN avas a ON w.ava_id = a.id\n",
    "WHERE w.location IS NOT NULL  -- Only include wineries with valid location data\n",
    "ORDER BY w.name;\n",
    "\"\"\"\n",
    "\n",
    "print(\"Fetching wineries from database...\")\n",
    "\n",
    "# Execute query and create DataFrame\n",
    "with engine.connect() as connection:\n",
    "    df_wineries = pd.read_sql(wineries_query, connection)\n",
    "\n",
    "print(f\"Retrieved {len(df_wineries)} wineries from database\")\n",
    "\n",
    "# Convert to GeoDataFrame\n",
    "from shapely.geometry import shape\n",
    "\n",
    "# Parse the geometry from GeoJSON strings using shapely\n",
    "geometries = df_wineries['geometry'].apply(\n",
    "    lambda x: shape(json.loads(x)) if x else None\n",
    ")\n",
    "\n",
    "# Create GeoDataFrame\n",
    "gdf_wineries = gpd.GeoDataFrame(\n",
    "    df_wineries.drop('geometry', axis=1),\n",
    "    geometry=geometries,\n",
    "    crs='EPSG:4326'\n",
    ")\n",
    "\n",
    "print(f\"Wineries data preview:\")\n",
    "print(f\"   - Total wineries: {len(gdf_wineries)}\")\n",
    "print(f\"   - Columns: {list(gdf_wineries.columns)}\")\n",
    "print(f\"   - CRS: {gdf_wineries.crs}\")\n",
    "print(f\"   - Geometry types: {gdf_wineries.geometry.geom_type.value_counts().to_dict()}\")\n",
    "\n",
    "print(f\"\\nFirst 3 wineries:\")\n",
    "for idx, row in gdf_wineries.head(3).iterrows():\n",
    "    ava_info = f\" ({row['ava_name']})\" if row['ava_name'] else \" (No AVA)\"\n",
    "    desc_length = len(row['description'] or 'No description')\n",
    "    print(f\"   - {row['name']}{ava_info}: {desc_length} chars description\")\n",
    "\n",
    "# Check for any wineries without location data\n",
    "no_location_count = df_wineries['geometry'].isna().sum()\n",
    "if no_location_count > 0:\n",
    "    print(f\"\\nNote: {no_location_count} wineries in database have no location data and were excluded\")"
   ]
  },
  {
   "cell_type": "code",
   "execution_count": 3,
   "id": "2f8b51b9",
   "metadata": {},
   "outputs": [
    {
     "name": "stdout",
     "output_type": "stream",
     "text": [
      "Exporting wineries to: ../../frontend/public/data/wineries.geojson\n",
      "Successfully exported wineries!\n",
      "   - File: ../../frontend/public/data/wineries.geojson\n",
      "   - Size: 0.11 MB\n",
      "   - Features: 134\n",
      "   - Sample content: {\n",
      "\"type\": \"FeatureCollection\",\n",
      "\"name\": \"wineries\",\n",
      "\"crs\": { \"type\": \"name\", \"properties\": { \"name\": \"urn:ogc:def:crs:OGC:1.3:CRS84\" } },\n",
      "\"features\": [\n",
      "{ \"type\": \"Feature\", \"properties\": { \"id\": 80, \"name\": \"Aeolus Vineyards\", \"address\": \"3935 Oak Knoll Rd NW, Salem, OR 97304\", \"website_url\": \"http:/...\n",
      "\n",
      "Wineries by AVA:\n",
      "   - Willamette Valley: 75 wineries\n",
      "   - Eola-Amity Hills: 41 wineries\n",
      "   - Van Duzer: 8 wineries\n",
      "   - Lower Long Tom: 7 wineries\n",
      "   - Mt Pisgah Polk County: 3 wineries\n"
     ]
    }
   ],
   "source": [
    "# Export wineries to GeoJSON file\n",
    "wineries_output_path = output_dir / 'wineries.geojson'\n",
    "\n",
    "print(f\"Exporting wineries to: {wineries_output_path}\")\n",
    "\n",
    "# Export as GeoJSON\n",
    "gdf_wineries.to_file(wineries_output_path, driver='GeoJSON')\n",
    "\n",
    "# Verify the file was created and get file size\n",
    "if wineries_output_path.exists():\n",
    "    file_size_mb = wineries_output_path.stat().st_size / (1024 * 1024)\n",
    "    print(f\"Successfully exported wineries!\")\n",
    "    print(f\"   - File: {wineries_output_path}\")\n",
    "    print(f\"   - Size: {file_size_mb:.2f} MB\")\n",
    "    print(f\"   - Features: {len(gdf_wineries)}\")\n",
    "    \n",
    "    # Read a snippet to verify structure\n",
    "    with open(wineries_output_path, 'r') as f:\n",
    "        sample = f.read(300)\n",
    "        print(f\"   - Sample content: {sample}...\")\n",
    "else:\n",
    "    print(\"Failed to create wineries GeoJSON file\")\n",
    "\n",
    "# Display summary of AVA distribution\n",
    "print(f\"\\nWineries by AVA:\")\n",
    "ava_counts = gdf_wineries['ava_name'].fillna('No AVA assigned').value_counts()\n",
    "for ava, count in ava_counts.head(10).items():\n",
    "    print(f\"   - {ava}: {count} wineries\")\n",
    "if len(ava_counts) > 10:\n",
    "    print(f\"   - ... and {len(ava_counts) - 10} more AVAs\")"
   ]
  },
  {
   "cell_type": "markdown",
   "id": "be513682",
   "metadata": {},
   "source": [
    "## Soils"
   ]
  },
  {
   "cell_type": "code",
   "execution_count": 1,
   "id": "c6dbb4d3",
   "metadata": {},
   "outputs": [
    {
     "name": "stdout",
     "output_type": "stream",
     "text": [
      "Database connection configured\n",
      "Output directory: /home/tabernater/projects/VitisVeritas/backend/notebooks/../../frontend/public/data\n",
      "Setup complete.\n"
     ]
    }
   ],
   "source": [
    "import os\n",
    "import json\n",
    "import geopandas as gpd\n",
    "import pandas as pd\n",
    "from sqlalchemy import create_engine, text\n",
    "from dotenv import load_dotenv\n",
    "from pathlib import Path\n",
    "from shapely.geometry import shape\n",
    "\n",
    "dotenv_path = '../.env'\n",
    "load_dotenv(dotenv_path=dotenv_path)\n",
    "\n",
    "DATABASE_URL = os.getenv('DATABASE_URL')\n",
    "if not DATABASE_URL:\n",
    "    raise ValueError(\"DATABASE_URL not found in .env file.\")\n",
    "\n",
    "engine = create_engine(DATABASE_URL)\n",
    "\n",
    "output_dir = Path('../../frontend/public/data/')\n",
    "output_dir.mkdir(parents=True, exist_ok=True)\n",
    "\n",
    "print(f\"Database connection configured\")\n",
    "print(f\"Output directory: {output_dir.absolute()}\")\n",
    "print(\"Setup complete.\")"
   ]
  },
  {
   "cell_type": "code",
   "execution_count": 2,
   "id": "3132ddd2",
   "metadata": {},
   "outputs": [
    {
     "name": "stdout",
     "output_type": "stream",
     "text": [
      "Fetching soils data from database...\n",
      "Retrieved 24673 soil polygons from database\n",
      "\n",
      "Sample soil data:\n",
      "   - 1404559 (1E): Apt-McDuff complex, 5 to 30 percent slopes\n",
      "   - 1404559 (1E): Apt-McDuff complex, 5 to 30 percent slopes\n",
      "   - 1404559 (1E): Apt-McDuff complex, 5 to 30 percent slopes\n"
     ]
    }
   ],
   "source": [
    "# Query to fetch all soils with their geometry and metadata\n",
    "# Based on actual table structure: mukey, musym, muname, geom\n",
    "soils_query = \"\"\"\n",
    "SELECT \n",
    "    mukey,\n",
    "    musym,\n",
    "    muname,\n",
    "    ST_AsGeoJSON(geom) as geometry\n",
    "FROM soils\n",
    "ORDER BY mukey;\n",
    "\"\"\"\n",
    "\n",
    "print(\"Fetching soils data from database...\")\n",
    "\n",
    "# Execute query\n",
    "with engine.connect() as connection:\n",
    "    df_soils = pd.read_sql(soils_query, connection)\n",
    "\n",
    "print(f\"Retrieved {len(df_soils)} soil polygons from database\")\n",
    "\n",
    "# Display sample data\n",
    "print(f\"\\nSample soil data:\")\n",
    "for idx, row in df_soils.head(3).iterrows():\n",
    "    print(f\"   - {row['mukey']} ({row['musym']}): {row['muname']}\")"
   ]
  },
  {
   "cell_type": "code",
   "execution_count": 3,
   "id": "91c26ca0",
   "metadata": {},
   "outputs": [
    {
     "name": "stdout",
     "output_type": "stream",
     "text": [
      "Converting to GeoDataFrame...\n",
      "Soils GeoDataFrame created:\n",
      "   - Total features: 24673\n",
      "   - Columns: ['mukey', 'musym', 'muname', 'geometry']\n",
      "   - CRS: EPSG:4326\n",
      "   - Geometry types: {'MultiPolygon': 24673}\n"
     ]
    }
   ],
   "source": [
    "print(\"Converting to GeoDataFrame...\")\n",
    "\n",
    "# Parse the geometry from GeoJSON strings\n",
    "geometries = df_soils['geometry'].apply(\n",
    "    lambda x: shape(json.loads(x)) if x else None\n",
    ")\n",
    "\n",
    "# Create GeoDataFrame\n",
    "gdf_soils = gpd.GeoDataFrame(\n",
    "    df_soils.drop('geometry', axis=1),\n",
    "    geometry=geometries,\n",
    "    crs='EPSG:4326'\n",
    ")\n",
    "\n",
    "# Display basic info\n",
    "print(f\"Soils GeoDataFrame created:\")\n",
    "print(f\"   - Total features: {len(gdf_soils)}\")\n",
    "print(f\"   - Columns: {list(gdf_soils.columns)}\")\n",
    "print(f\"   - CRS: {gdf_soils.crs}\")\n",
    "print(f\"   - Geometry types: {gdf_soils.geometry.geom_type.value_counts().to_dict()}\")\n",
    "\n",
    "# Check for any null geometries\n",
    "null_geoms = gdf_soils.geometry.isnull().sum()\n",
    "if null_geoms > 0:\n",
    "    print(f\"   - Warning: {null_geoms} null geometries found\")"
   ]
  },
  {
   "cell_type": "code",
   "execution_count": 4,
   "id": "eb72fa9f",
   "metadata": {},
   "outputs": [
    {
     "name": "stdout",
     "output_type": "stream",
     "text": [
      "Exporting soils to: ../../frontend/public/data/soils.geojson\n",
      "Successfully exported soils GeoJSON!\n",
      "   - File: ../../frontend/public/data/soils.geojson\n",
      "   - Size: 74.30 MB\n",
      "   - Features: 24673\n"
     ]
    }
   ],
   "source": [
    "# Export to GeoJSON file\n",
    "soils_output_path = output_dir / 'soils.geojson'\n",
    "\n",
    "print(f\"Exporting soils to: {soils_output_path}\")\n",
    "\n",
    "# Export as GeoJSON\n",
    "gdf_soils.to_file(soils_output_path, driver='GeoJSON')\n",
    "\n",
    "# Verify the file was created\n",
    "if soils_output_path.exists():\n",
    "    file_size_mb = soils_output_path.stat().st_size / (1024 * 1024)\n",
    "    print(f\"Successfully exported soils GeoJSON!\")\n",
    "    print(f\"   - File: {soils_output_path}\")\n",
    "    print(f\"   - Size: {file_size_mb:.2f} MB\")\n",
    "    print(f\"   - Features: {len(gdf_soils)}\")\n",
    "else:\n",
    "    print(\"Failed to create soils GeoJSON file\")"
   ]
  },
  {
   "cell_type": "code",
   "execution_count": 5,
   "id": "c24d6e1a",
   "metadata": {},
   "outputs": [
    {
     "name": "stdout",
     "output_type": "stream",
     "text": [
      "\n",
      "Validating GeoJSON structure...\n",
      "GeoJSON validation:\n",
      "   - Type: FeatureCollection\n",
      "   - Features count: 24673\n",
      "   - Sample properties: ['mukey', 'musym', 'muname']\n",
      "   - Sample mukey: 1404559\n",
      "   - Sample soil name: Apt-McDuff complex, 5 to 30 percent slopes\n",
      "   - Sample musym: 1E\n"
     ]
    }
   ],
   "source": [
    "print(\"\\nValidating GeoJSON structure...\")\n",
    "\n",
    "# Read back and verify\n",
    "try:\n",
    "    with open(soils_output_path, 'r') as f:\n",
    "        geojson_data = json.load(f)\n",
    "    \n",
    "    print(f\"GeoJSON validation:\")\n",
    "    print(f\"   - Type: {geojson_data.get('type', 'Unknown')}\")\n",
    "    print(f\"   - Features count: {len(geojson_data.get('features', []))}\")\n",
    "    \n",
    "    # Check first feature structure\n",
    "    if geojson_data.get('features'):\n",
    "        first_feature = geojson_data['features'][0]\n",
    "        properties = first_feature.get('properties', {})\n",
    "        print(f\"   - Sample properties: {list(properties.keys())}\")\n",
    "        print(f\"   - Sample mukey: {properties.get('mukey', 'N/A')}\")\n",
    "        print(f\"   - Sample soil name: {properties.get('muname', 'N/A')}\")\n",
    "        print(f\"   - Sample musym: {properties.get('musym', 'N/A')}\")\n",
    "    \n",
    "except Exception as e:\n",
    "    print(f\"Error validating GeoJSON: {e}\")"
   ]
  }
 ],
 "metadata": {
  "kernelspec": {
   "display_name": "3.13.5",
   "language": "python",
   "name": "python3"
  },
  "language_info": {
   "codemirror_mode": {
    "name": "ipython",
    "version": 3
   },
   "file_extension": ".py",
   "mimetype": "text/x-python",
   "name": "python",
   "nbconvert_exporter": "python",
   "pygments_lexer": "ipython3",
   "version": "3.13.5"
  }
 },
 "nbformat": 4,
 "nbformat_minor": 5
}
