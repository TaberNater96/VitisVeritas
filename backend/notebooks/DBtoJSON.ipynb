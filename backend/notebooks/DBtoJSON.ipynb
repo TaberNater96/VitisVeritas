{
 "cells": [
  {
   "cell_type": "markdown",
   "id": "b1b10e67",
   "metadata": {},
   "source": [
    "<h1 style=\"text-align: center\">Database to JSON Export Pipeline</h1>\n",
    "\n",
    "This notebook extracts data from the PostgreSQL database and converts it to JSON/GeoJSON files for the frontend application. The exported files are placed in `../frontend/public/data/` for static serving.\n",
    "\n",
    "## AVAs"
   ]
  },
  {
   "cell_type": "code",
   "execution_count": 1,
   "id": "367d3f27",
   "metadata": {},
   "outputs": [
    {
     "name": "stdout",
     "output_type": "stream",
     "text": [
      "Database connection configured\n",
      "Output directory: /home/tabernater/projects/VitisVeritas/backend/notebooks/../../frontend/public/data\n",
      "Setup complete.\n"
     ]
    }
   ],
   "source": [
    "import os\n",
    "import json\n",
    "import geopandas as gpd\n",
    "import pandas as pd\n",
    "from sqlalchemy import create_engine, text\n",
    "from dotenv import load_dotenv\n",
    "from pathlib import Path\n",
    "\n",
    "# Load environment variables\n",
    "dotenv_path = '../.env'\n",
    "load_dotenv(dotenv_path=dotenv_path)\n",
    "\n",
    "DATABASE_URL = os.getenv('DATABASE_URL')\n",
    "if not DATABASE_URL:\n",
    "    raise ValueError(\"DATABASE_URL not found in .env file. Make sure .env file exists in the 'backend' directory.\")\n",
    "\n",
    "# Create database connection\n",
    "engine = create_engine(DATABASE_URL)\n",
    "\n",
    "# Define output directory\n",
    "output_dir = Path('../../frontend/public/data/')\n",
    "output_dir.mkdir(parents=True, exist_ok=True)\n",
    "\n",
    "print(f\"Database connection configured\")\n",
    "print(f\"Output directory: {output_dir.absolute()}\")\n",
    "print(f\"Setup complete.\")"
   ]
  },
  {
   "cell_type": "code",
   "execution_count": null,
   "id": "4b657bab",
   "metadata": {},
   "outputs": [
    {
     "name": "stdout",
     "output_type": "stream",
     "text": [
      "📥 Fetching AVAs from database...\n",
      "✅ Retrieved 12 AVAs from database\n",
      "📊 AVAs data preview:\n",
      "   - Total AVAs: 12\n",
      "   - Columns: ['id', 'name', 'description', 'created_at', 'updated_at', 'geometry']\n",
      "   - CRS: EPSG:4326\n",
      "   - Geometry types: {'MultiPolygon': 12}\n",
      "\n",
      "📋 First 3 AVAs:\n",
      "   - Chehalem Mountains: 14 chars description\n",
      "   - Dundee Hills: 14 chars description\n",
      "   - Eola-Amity Hills: 14 chars description\n"
     ]
    }
   ],
   "source": [
    "# Query to fetch all AVAs with their geometry\n",
    "avas_query = \"\"\"\n",
    "SELECT \n",
    "    id,\n",
    "    name,\n",
    "    description,\n",
    "    ST_AsGeoJSON(geom) as geometry,\n",
    "    created_at,\n",
    "    updated_at\n",
    "FROM avas\n",
    "ORDER BY name;\n",
    "\"\"\"\n",
    "\n",
    "print(\"Fetching AVAs from database...\")\n",
    "\n",
    "# Execute query and create GeoDataFrame\n",
    "with engine.connect() as connection:\n",
    "    df_avas = pd.read_sql(avas_query, connection)\n",
    "\n",
    "print(f\"Retrieved {len(df_avas)} AVAs from database\")\n",
    "\n",
    "# Convert to GeoDataFrame\n",
    "from shapely.geometry import shape\n",
    "\n",
    "# Parse the geometry from GeoJSON strings using shapely\n",
    "geometries = df_avas['geometry'].apply(\n",
    "    lambda x: shape(json.loads(x)) if x else None\n",
    ")\n",
    "\n",
    "# Create GeoDataFrame\n",
    "gdf_avas = gpd.GeoDataFrame(\n",
    "    df_avas.drop('geometry', axis=1),\n",
    "    geometry=geometries,\n",
    "    crs='EPSG:4326'\n",
    ")\n",
    "\n",
    "# Display basic info\n",
    "print(f\"AVAs data preview:\")\n",
    "print(f\"   - Total AVAs: {len(gdf_avas)}\")\n",
    "print(f\"   - Columns: {list(gdf_avas.columns)}\")\n",
    "print(f\"   - CRS: {gdf_avas.crs}\")\n",
    "print(f\"   - Geometry types: {gdf_avas.geometry.geom_type.value_counts().to_dict()}\")\n",
    "\n",
    "# Display first few rows\n",
    "print(f\"\\nFirst 3 AVAs:\")\n",
    "for idx, row in gdf_avas.head(3).iterrows():\n",
    "    print(f\"   - {row['name']}: {len(row['description'] or 'No description')} chars description\")"
   ]
  },
  {
   "cell_type": "code",
   "execution_count": null,
   "id": "12c5872d",
   "metadata": {},
   "outputs": [
    {
     "name": "stdout",
     "output_type": "stream",
     "text": [
      "💾 Exporting AVAs to: ../../frontend/public/data/avas.geojson\n",
      "✅ Successfully exported AVAs!\n",
      "   - File: ../../frontend/public/data/avas.geojson\n",
      "   - Size: 3.48 MB\n",
      "   - Features: 12\n",
      "   - Sample content: {\n",
      "\"type\": \"FeatureCollection\",\n",
      "\"name\": \"avas\",\n",
      "\"crs\": { \"type\": \"name\", \"properties\": { \"name\": \"urn:ogc:def:crs:OGC:1.3:CRS84\" } },\n",
      "\"features\": [\n",
      "{ \"type\": \"Feature\", \"properties\": { \"id\": 10, \"name\"...\n",
      "✅ Successfully exported AVAs!\n",
      "   - File: ../../frontend/public/data/avas.geojson\n",
      "   - Size: 3.48 MB\n",
      "   - Features: 12\n",
      "   - Sample content: {\n",
      "\"type\": \"FeatureCollection\",\n",
      "\"name\": \"avas\",\n",
      "\"crs\": { \"type\": \"name\", \"properties\": { \"name\": \"urn:ogc:def:crs:OGC:1.3:CRS84\" } },\n",
      "\"features\": [\n",
      "{ \"type\": \"Feature\", \"properties\": { \"id\": 10, \"name\"...\n"
     ]
    }
   ],
   "source": [
    "# Export to GeoJSON file\n",
    "avas_output_path = output_dir / 'avas.geojson'\n",
    "\n",
    "print(f\"Exporting AVAs to: {avas_output_path}\")\n",
    "\n",
    "# Export as GeoJSON\n",
    "gdf_avas.to_file(avas_output_path, driver='GeoJSON')\n",
    "\n",
    "# Verify the file was created and get file size\n",
    "if avas_output_path.exists():\n",
    "    file_size_mb = avas_output_path.stat().st_size / (1024 * 1024)\n",
    "    print(f\"Successfully exported AVAs!\")\n",
    "    print(f\"   - File: {avas_output_path}\")\n",
    "    print(f\"   - Size: {file_size_mb:.2f} MB\")\n",
    "    print(f\"   - Features: {len(gdf_avas)}\")\n",
    "    \n",
    "    # Read a snippet to verify structure\n",
    "    with open(avas_output_path, 'r') as f:\n",
    "        sample = f.read(200)\n",
    "        print(f\"   - Sample content: {sample}...\")\n",
    "else:\n",
    "    print(\"Failed to create AVAs GeoJSON file\")"
   ]
  },
  {
   "cell_type": "markdown",
   "id": "34b86bad",
   "metadata": {},
   "source": [
    "## Wineries"
   ]
  },
  {
   "cell_type": "code",
   "execution_count": null,
   "id": "6df5d9ea",
   "metadata": {},
   "outputs": [],
   "source": []
  }
 ],
 "metadata": {
  "kernelspec": {
   "display_name": "3.13.5",
   "language": "python",
   "name": "python3"
  },
  "language_info": {
   "codemirror_mode": {
    "name": "ipython",
    "version": 3
   },
   "file_extension": ".py",
   "mimetype": "text/x-python",
   "name": "python",
   "nbconvert_exporter": "python",
   "pygments_lexer": "ipython3",
   "version": "3.13.5"
  }
 },
 "nbformat": 4,
 "nbformat_minor": 5
}
