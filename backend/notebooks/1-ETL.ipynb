{
 "cells": [
  {
   "cell_type": "markdown",
   "id": "dae1f4f6",
   "metadata": {},
   "source": [
    "<h1 style=\"text-align: center;\">ETL</h1>"
   ]
  },
  {
   "cell_type": "markdown",
   "id": "0818061d",
   "metadata": {},
   "source": []
  },
  {
   "cell_type": "code",
   "execution_count": null,
   "id": "c79e0d70",
   "metadata": {},
   "outputs": [],
   "source": []
  },
  {
   "cell_type": "markdown",
   "id": "00641b83",
   "metadata": {},
   "source": [
    "## Varietals"
   ]
  },
  {
   "cell_type": "code",
   "execution_count": null,
   "id": "592232d4",
   "metadata": {},
   "outputs": [
    {
     "name": "stdout",
     "output_type": "stream",
     "text": [
      "Varietals table populated successfully.\n"
     ]
    }
   ],
   "source": [
    "import pandas as pd\n",
    "import sqlalchemy\n",
    "import os\n",
    "from dotenv import load_dotenv\n",
    "\n",
    "load_dotenv()\n",
    "\n",
    "DATABASE_URL = os.getenv(\"DATABASE_URL\")\n",
    "engine = sqlalchemy.create_engine(DATABASE_URL)\n",
    "\n",
    "# Varietals table, to add more data, first delete current data to prevent duplicates and then re-run this cell\n",
    "varietals_data = {\n",
    "    \"Pinot Noir\": \"The quintessential Willamette Valley grape. It presents a silky, elegant texture balanced by vibrant acidity. Expect a complex aromatic profile of wild strawberry, Rainier cherry, and damp forest floor, with a subtle spice of white pepper. The volcanic Jory soils often impart a distinct stony minerality, while marine sedimentary soils can add a savory, umami-like depth.\",\n",
    "    \"Pinot Gris\": \"A textural and aromatic delight, often crafted in an Alsatian-inspired style. It reveals layers of ripe pear, quince, and beeswax, with a spicy hint of ginger. A brief period of skin contact lends a beautiful copper hue and a pleasant bitter note of orange peel, adding to its complexity.\",\n",
    "    \"Chardonnay\": \"A grape of two distinct personalities in the Valley. The 'Lean' style, often from the Eola-Amity Hills, offers crisp green apple, wet flint, and lemon pith with laser-like acidity. The 'Rich' style, typical of the Dundee Hills, delivers notes of baked apple, brioche, and toasted hazelnut with a rounder, creamier mid-palate.\",\n",
    "    \"Riesling\": \"A noble grape with remarkable aging potential. In its youth, it bursts with notes of peach skin and a hint of kerosene, which evolves into complex honeycomb and petrol notes over time. Dry expressions possess a searing acidity, while late-harvest styles are luscious with apricot nectar.\",\n",
    "    \"Gamay\": \"Vibrant and juicy, this grape is all about immediate pleasure. It explodes with flavors of cranberry, pomegranate, and rose hip, grounded by a subtle black tea leaf earthiness. Carbonic maceration often lends a characteristic bubblegum lift and softens the tannins, making it irresistibly quaffable.\",\n",
    "    \"Syrah\": \"A testament to cool-climate intensity. This grape offers a brooding bouquet of blackberry compote, violets, and savory notes of smoked meat and black olive. The persistent winds of the Van Duzer Corridor impart a signature peppery grip and firm, chewy tannins.\",\n",
    "    \"Pinot Blanc\": \"A varietal of quiet power and finesse. It whispers notes of lemon curd, raw almond, and a distinct saline minerality reminiscent of sea spray. It is often blended with Chardonnay to enhance textural weight and complexity.\",\n",
    "    \"Dolcetto\": \"An Oregonian take on a Piedmont classic. It features a core of bitter cherry, interwoven with notes of tar, licorice, and blueberry skin. Compared to its Italian counterpart, the Willamette Valley version often showcases brighter acidity and a unique iron oxide grit from the local soils.\",\n",
    "    \"Tempranillo\": \"Feral, savory, and complex. This Spanish grape reveals a rustic profile of sour plum, tobacco leaf, and worn leather. It demands sun-drenched, south-facing slopes to achieve full ripeness and express its sun-baked character.\",\n",
    "    \"Lagrein\": \"Inky, brooding, and powerful. This Northern Italian varietal is characterized by intense notes of black raspberry, dark cocoa powder, and a ferrous hint of beef blood. The tannins are famously robust, often described as 'chewing on grape seeds.'\",\n",
    "    \"Carmine\": \"A fascinating hybrid with a bold personality. It combines the structure of Cabernet Sauvignon with the rustic charm of Carignan, resulting in a wine with notes of cranberry sauce, bell pepper, and dark chocolate.\",\n",
    "    \"Grüner Veltliner\": \"Austria's star grape, finding a happy home in Oregon. It is defined by its signature white pepper and radish-like crunch, complemented by flavors of green pear, lentil, and lime zest. The local Jory soils contribute a smoky, flinty nuance.\",\n",
    "    \"Müller-Thurgau\": \"A charming, off-dry white perfect for casual sipping. It delights with aromatic notes of lychee, elderflower, and bruised apple. Its naturally low alcohol content makes it a light and refreshing picnic wine.\",\n",
    "    \"Albariño\": \"A burst of seaside freshness. This Spanish varietal is defined by its saline minerality, evoking sea spray on a coastal breeze. Flavors of white peach and lemongrass are carried on a wave of crisp acidity, making it exceptionally refreshing.\",\n",
    "    \"Arneis\": \"A varietal of bitter elegance from Piedmont. It offers a sophisticated bouquet of fennel pollen, chamomile, and blanched almond. The finish is characteristically bitter, reminiscent of a peach pit, which adds to its allure.\",\n",
    "    \"Pinot Meunier\": \"Primarily a sparkling wine grape, it shines with notes of red apple skin and freshly baked brioche. It contributes to a creamy, persistent mousse, creating a wine of great texture and charm.\",\n",
    "    \"Gewürztraminer\": \"An aromatic explosion in the glass. It offers an unmistakable bouquet of lychee and rosewater, with a rich, slightly oily texture that coats the palate. Willamette Valley versions are often fermented dry, showcasing the grape's full aromatic potential.\",\n",
    "    \"Pinot Noir Précoce\": \"An early-ripening clone, considered an ancestor of Pinot Noir. It delivers a wilder, more rustic expression of its descendant, with intense notes of wild strawberry and blood orange.\",\n",
    "    \"Blaufränkisch\": \"An Austrian red with a savage edge. It presents a deep profile of blueberry liqueur and graphite, supported by fierce, structured tannins that demand attention.\",\n",
    "    \"Sauvignon Blanc\": \"A nod to the restrained style of the Loire Valley. It offers crisp notes of gooseberry and freshly cut grass, with a focus on minerality and elegance rather than overt tropical fruit.\"\n",
    "}\n",
    "\n",
    "df_varietals = pd.DataFrame(list(varietals_data.items()), columns=['name', 'description'])\n",
    "df_varietals.to_sql('varietals', engine, if_exists='append', index=False)\n",
    "\n",
    "print(\"Varietals table populated successfully.\")"
   ]
  }
 ],
 "metadata": {
  "kernelspec": {
   "display_name": "3.13.5",
   "language": "python",
   "name": "python3"
  },
  "language_info": {
   "codemirror_mode": {
    "name": "ipython",
    "version": 3
   },
   "file_extension": ".py",
   "mimetype": "text/x-python",
   "name": "python",
   "nbconvert_exporter": "python",
   "pygments_lexer": "ipython3",
   "version": "3.13.5"
  }
 },
 "nbformat": 4,
 "nbformat_minor": 5
}
