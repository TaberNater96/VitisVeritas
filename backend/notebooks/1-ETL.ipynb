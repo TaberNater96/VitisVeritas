{
 "cells": [
  {
   "cell_type": "markdown",
   "id": "dae1f4f6",
   "metadata": {},
   "source": [
    "<h1 style=\"text-align: center;\">ETL</h1>"
   ]
  },
  {
   "cell_type": "code",
   "execution_count": null,
   "id": "592232d4",
   "metadata": {},
   "outputs": [],
   "source": []
  }
 ],
 "metadata": {
  "kernelspec": {
   "display_name": "3.13.5",
   "language": "python",
   "name": "python3"
  },
  "language_info": {
   "name": "python",
   "version": "3.13.5"
  }
 },
 "nbformat": 4,
 "nbformat_minor": 5
}
